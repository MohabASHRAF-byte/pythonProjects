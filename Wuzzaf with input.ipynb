{
 "cells": [
  {
   "cell_type": "code",
   "execution_count": 1,
   "metadata": {},
   "outputs": [],
   "source": [
    "import requests as req\n",
    "import csv\n",
    "from bs4 import BeautifulSoup"
   ]
  },
  {
   "cell_type": "code",
   "execution_count": 2,
   "metadata": {},
   "outputs": [],
   "source": [
    "def DG(x):\n",
    "    for xxx in x:\n",
    "        print(xxx)\n",
    "def DT(x):\n",
    "    for xxx in x:\n",
    "        print(xxx.get_text())\n",
    "def DS(x):\n",
    "    for xxx in x:\n",
    "        print(xxx.get_text().strip())"
   ]
  },
  {
   "cell_type": "code",
   "execution_count": 7,
   "metadata": {},
   "outputs": [
    {
     "name": "stdout",
     "output_type": "stream",
     "text": [
      "Enter the job you want to search\tdoctor\n",
      "0\n",
      "1\n",
      "2\n",
      "3\n",
      "4\n",
      "5\n",
      "5 pages scraped\n"
     ]
    }
   ],
   "source": [
    "page_number=0\n",
    "data=[]\n",
    "x =input(f\"Enter the job you want to search\\t\")\n",
    "while True:\n",
    "    url=f\"https://wuzzuf.net/search/jobs/?a=navbg&q={x}&start={page_number}\"\n",
    "    response =req.get(url)\n",
    "    soup = BeautifulSoup(response.text,\"html.parser\")\n",
    "    #getting job name\n",
    "    jobs_names = soup.find_all('a' ,attrs = {\"class\":\"css-o171kl\",\"rel\":\"noreferrer\"})\n",
    "    job_names_list=[ i.get_text().strip()  for i in jobs_names]\n",
    "    # get links for all jobs\n",
    "    job_links=[\"https://wuzzuf.net\"+i['href'] for i in jobs_names]\n",
    "    #get companies name list\n",
    "    Company_name=soup.find_all('a', attrs = {'class' : 'css-17s97q8' ,'rel':\"noreferrer\" })\n",
    "    companies_name_list=[ i.get_text()[:-2] for i in Company_name]\n",
    "    #get_location\n",
    "    locations = soup.find_all(\"span\" , attrs ={\"class\":\"css-5wys0k\"})\n",
    "    locations_list =[i.get_text().strip() for i in locations]\n",
    "    #creating data\n",
    "    page_data=[]\n",
    "    for job_name ,company_name ,location ,link in zip(job_names_list,companies_name_list,locations_list,job_links):\n",
    "        temp=[job_name,company_name,location,link]\n",
    "        page_data.append(temp)\n",
    "    print(page_number)\n",
    "    if len(page_data)==0:\n",
    "        break\n",
    "    else :\n",
    "        for i in page_data:\n",
    "            data.append(i)\n",
    "        page_number+=1\n",
    "print(f\"{page_number} pages scraped\")"
   ]
  },
  {
   "cell_type": "code",
   "execution_count": 8,
   "metadata": {},
   "outputs": [],
   "source": [
    "with open(f\"{x}.csv\" ,'w',newline=\"\",encoding='UTF-8') as wr:\n",
    "    writer =csv.writer(wr)\n",
    "    header=[\"Job Title\" ,\"Company\",\"Location\",\"Link\"]\n",
    "    writer.writerow(header)\n",
    "    writer.writerows(data)\n"
   ]
  },
  {
   "cell_type": "code",
   "execution_count": null,
   "metadata": {},
   "outputs": [],
   "source": []
  }
 ],
 "metadata": {
  "kernelspec": {
   "display_name": "Python 3",
   "language": "python",
   "name": "python3"
  },
  "language_info": {
   "codemirror_mode": {
    "name": "ipython",
    "version": 3
   },
   "file_extension": ".py",
   "mimetype": "text/x-python",
   "name": "python",
   "nbconvert_exporter": "python",
   "pygments_lexer": "ipython3",
   "version": "3.7.6"
  }
 },
 "nbformat": 4,
 "nbformat_minor": 5
}
