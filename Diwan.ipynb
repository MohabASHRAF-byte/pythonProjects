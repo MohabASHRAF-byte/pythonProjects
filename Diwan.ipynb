{
 "cells": [
  {
   "cell_type": "code",
   "execution_count": null,
   "metadata": {},
   "outputs": [],
   "source": [
    "import requests as req\n",
    "import csv\n",
    "from bs4 import BeautifulSoup"
   ]
  },
  {
   "cell_type": "code",
   "execution_count": null,
   "metadata": {},
   "outputs": [],
   "source": [
    "def DG(x):\n",
    "    for xxx in x:\n",
    "        print(xxx)\n",
    "def DT(x):\n",
    "    for xxx in x:\n",
    "        print(xxx.get_text())\n",
    "def DS(x):\n",
    "    for xxx in x:\n",
    "        print(xxx.get_text().strip())"
   ]
  },
  {
   "cell_type": "code",
   "execution_count": null,
   "metadata": {},
   "outputs": [],
   "source": [
    "data=[]\n",
    "dataset=[]"
   ]
  },
  {
   "cell_type": "code",
   "execution_count": null,
   "metadata": {},
   "outputs": [],
   "source": [
    "page_number=1\n",
    "check=False\n",
    "while True :\n",
    "    url=f\"https://diwanegypt.com/product-category/books/arabic-books/page/{page_number}/\"\n",
    "    response =req.get(url)\n",
    "    soup = BeautifulSoup(response.text,\"html.parser\")\n",
    "    books =soup.find(\"ul\",attrs = {\"class\":\"products columns-5\"})\n",
    "    try:\n",
    "        book = books.find_all(\"li\")\n",
    "    except :\n",
    "        print(page_number)\n",
    "        check =True\n",
    "    if check :\n",
    "        break\n",
    "    for i in range(len(book)):\n",
    "        temp=[]\n",
    "        title = book[i].find('h2').get_text()\n",
    "        price = book[i].find('bdi').get_text()[3:]\n",
    "        author =book[i].find('span' , attrs={\"class\":\"author\"}).get_text()\n",
    "        img= book[i].find('img')['src']\n",
    "        temp.append(title)\n",
    "        temp.append(author)\n",
    "        temp.append(price)\n",
    "        temp.append(img)\n",
    "        data.append(temp)\n",
    "    page_number+=1\n",
    "    print(page_number)\n",
    "    for i in data:\n",
    "        dataset.append(i)"
   ]
  },
  {
   "cell_type": "code",
   "execution_count": null,
   "metadata": {},
   "outputs": [],
   "source": [
    "with open(f\"Books3.csv\" ,'w',newline=\"\",encoding='UTF-8') as wr:\n",
    "    writer =csv.writer(wr)\n",
    "    header=[\"Title\" ,\"Author\",\"Price\",\"Image\"]\n",
    "    writer.writerow(header)\n",
    "    writer.writerows(dataset)"
   ]
  },
  {
   "cell_type": "code",
   "execution_count": null,
   "metadata": {},
   "outputs": [],
   "source": []
  }
 ],
 "metadata": {
  "kernelspec": {
   "display_name": "Python 3",
   "language": "python",
   "name": "python3"
  },
  "language_info": {
   "codemirror_mode": {
    "name": "ipython",
    "version": 3
   },
   "file_extension": ".py",
   "mimetype": "text/x-python",
   "name": "python",
   "nbconvert_exporter": "python",
   "pygments_lexer": "ipython3",
   "version": "3.7.6"
  }
 },
 "nbformat": 4,
 "nbformat_minor": 4
}
